{
 "cells": [
  {
   "cell_type": "markdown",
   "metadata": {},
   "source": [
    "Names scores \n",
    "Problem_22\n",
    "\n",
    "Using names.txt (right click and 'Save Link/Target As...'), a 46K text file containing over five-thousand first names, begin by sorting it into alphabetical order. Then working out the alphabetical value for each name, multiply this value by its alphabetical position in the list to obtain a name score.\n",
    "For example, when the list is sorted into alphabetical order, COLIN, which is worth 3 + 15 + 12 + 9 + 14 = 53, is the 938th name in the list. So, COLIN would obtain a score of 938 × 53 = 49714.\n",
    "What is the total of all the name scores in the file?"
   ]
  },
  {
   "cell_type": "code",
   "execution_count": 57,
   "metadata": {},
   "outputs": [
    {
     "name": "stdout",
     "output_type": "stream",
     "text": [
      "['Jess', 'Charley', 'Lionel', 'Ryan', 'Julie', 'Paul']\n"
     ]
    }
   ],
   "source": [
    "#getdata\n",
    "#test input\n",
    "\n",
    "start_list = ['Jess', 'Charley', 'Lionel', 'Ryan', 'Julie', 'Paul']\n",
    "#test\n",
    "\n",
    "print(start_list)"
   ]
  },
  {
   "cell_type": "code",
   "execution_count": 58,
   "metadata": {
    "scrolled": true
   },
   "outputs": [
    {
     "name": "stdout",
     "output_type": "stream",
     "text": [
      "['Charley', 'Jess', 'Julie', 'Lionel', 'Paul', 'Ryan']\n"
     ]
    }
   ],
   "source": [
    "#sort into alphabetical order name list to be called later\n",
    "\n",
    "alphaorder = sorted(start_list)\n",
    "\n",
    "print(alphaorder)\n",
    "\n",
    "#print(alphaorder[1])\n",
    "    \n",
    "#for alphaorder [0:list.len]\n",
    "    #print(list.len+1)"
   ]
  },
  {
   "cell_type": "code",
   "execution_count": 53,
   "metadata": {},
   "outputs": [
    {
     "name": "stdout",
     "output_type": "stream",
     "text": [
      "['A', 'B', 'C', 'D', 'E', 'F', 'G', 'H', 'I', 'J', 'K', 'L', 'M', 'N', 'O', 'P', 'Q', 'R', 'S', 'T', 'U', 'V', 'W', 'X', 'Y', 'Z']\n"
     ]
    }
   ],
   "source": [
    "#set up alphabet scoring\n",
    "\n",
    "import string\n",
    "string.ascii_uppercase\n",
    "\n",
    "alphabet = list(string.ascii_uppercase)\n",
    "\n",
    "print(alphabet)\n",
    "\n",
    "#def alphabetical_value (letter):\n",
    "    for letter in alphabet return place_in_list \n",
    "\n",
    "#if letter = a return 1\n",
    "\n",
    "#witch letter case a return, case b return"
   ]
  },
  {
   "cell_type": "code",
   "execution_count": null,
   "metadata": {},
   "outputs": [],
   "source": [
    "#run name list through alphabet scoring\n",
    "#name = alphabet score (how to give modified values new names)"
   ]
  },
  {
   "cell_type": "code",
   "execution_count": null,
   "metadata": {},
   "outputs": [],
   "source": []
  },
  {
   "cell_type": "code",
   "execution_count": null,
   "metadata": {},
   "outputs": [],
   "source": [
    "#name= name*number in list'alphabetical' "
   ]
  },
  {
   "cell_type": "code",
   "execution_count": null,
   "metadata": {},
   "outputs": [],
   "source": [
    "#sum name "
   ]
  },
  {
   "cell_type": "code",
   "execution_count": null,
   "metadata": {},
   "outputs": [],
   "source": []
  }
 ],
 "metadata": {
  "kernelspec": {
   "display_name": "Python 3",
   "language": "python",
   "name": "python3"
  },
  "language_info": {
   "codemirror_mode": {
    "name": "ipython",
    "version": 3
   },
   "file_extension": ".py",
   "mimetype": "text/x-python",
   "name": "python",
   "nbconvert_exporter": "python",
   "pygments_lexer": "ipython3",
   "version": "3.8.2"
  }
 },
 "nbformat": 4,
 "nbformat_minor": 4
}
